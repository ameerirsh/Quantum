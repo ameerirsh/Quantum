{
 "metadata": {
  "language_info": {
   "codemirror_mode": {
    "name": "ipython",
    "version": 3
   },
   "file_extension": ".py",
   "mimetype": "text/x-python",
   "name": "python",
   "nbconvert_exporter": "python",
   "pygments_lexer": "ipython3",
   "version": "3.7.8-final"
  },
  "orig_nbformat": 2,
  "kernelspec": {
   "name": "python_defaultSpec_1599316273646",
   "display_name": "Python 3.7.8 64-bit"
  }
 },
 "nbformat": 4,
 "nbformat_minor": 2,
 "cells": [
  {
   "cell_type": "code",
   "execution_count": 24,
   "metadata": {
    "tags": []
   },
   "outputs": [],
   "source": [
    "from qsharp.chemistry import load_broombridge, load_fermion_hamiltonian, load_input_state, encode"
   ]
  },
  {
   "cell_type": "code",
   "execution_count": 25,
   "metadata": {},
   "outputs": [],
   "source": [
    "filename = 'data/hydrogen_0.2.yaml'\n",
    "broombridge_data =  load_broombridge(filename)"
   ]
  },
  {
   "cell_type": "code",
   "execution_count": 26,
   "metadata": {},
   "outputs": [
    {
     "output_type": "execute_result",
     "data": {
      "text/plain": "{'Type': 'gaussian', 'Name': 'sto-3g'}"
     },
     "metadata": {},
     "execution_count": 26
    }
   ],
   "source": [
    "broombridge_data.problem_description[0].basis_set"
   ]
  },
  {
   "cell_type": "code",
   "execution_count": 27,
   "metadata": {},
   "outputs": [
    {
     "output_type": "execute_result",
     "data": {
      "text/plain": "{'CoordinateSystem': 'cartesian',\n 'Symmetry': 'c1',\n 'Atoms': [{'coords': ['0.0', '0.0', '0.0'], 'name': 'H'},\n  {'coords': ['0.0', '0.0', '1.624'], 'name': 'H'}],\n 'Units': 'angstrom'}"
     },
     "metadata": {},
     "execution_count": 27
    }
   ],
   "source": [
    "broombridge_data.problem_description[0].geometry"
   ]
  },
  {
   "cell_type": "code",
   "execution_count": 28,
   "metadata": {
    "tags": []
   },
   "outputs": [
    {
     "output_type": "stream",
     "name": "stdout",
     "text": "nuclear_repulsion =  0.713776188\none_electron_integrals =  [([1, 1], -1.252477495), ([2, 2], -0.475934275)]\n"
    }
   ],
   "source": [
    "# Retrieve basis set and geometry used to generate the input data\n",
    "basis_set = broombridge_data.problem_description[0].basis_set\n",
    "geometry = broombridge_data.problem_description[0].geometry\n",
    "\n",
    "# Retrieve the nuclear repulsion and the one-electron integrals (Mulliken convention)\n",
    "nuclear_repulsion = broombridge_data.problem_description[0].coulomb_repulsion['Value']\n",
    "one_electron_integrals =  broombridge_data.problem_description[0].hamiltonian['OneElectronIntegrals']['Values']\n",
    "\n",
    "print(\"nuclear_repulsion = \", nuclear_repulsion)\n",
    "print(\"one_electron_integrals = \", one_electron_integrals)"
   ]
  },
  {
   "cell_type": "code",
   "execution_count": 29,
   "metadata": {},
   "outputs": [
    {
     "output_type": "execute_result",
     "data": {
      "text/plain": "<qsharp.chemistry.ProblemDescription at 0x7f5768c8f810>"
     },
     "metadata": {},
     "execution_count": 29
    }
   ],
   "source": [
    "broombridge_data.problem_description[0]"
   ]
  },
  {
   "cell_type": "code",
   "execution_count": 30,
   "metadata": {
    "tags": []
   },
   "outputs": [
    {
     "output_type": "stream",
     "name": "stdout",
     "text": "ferm_hamiltonian :: <qsharp.chemistry.FermionHamiltonian object at 0x7f5735473c50>\n"
    }
   ],
   "source": [
    "ferm_hamiltonian = broombridge_data.problem_description[0].load_fermion_hamiltonian()\n",
    "print(\"ferm_hamiltonian ::\", ferm_hamiltonian)"
   ]
  },
  {
   "cell_type": "code",
   "execution_count": 31,
   "metadata": {
    "tags": []
   },
   "outputs": [
    {
     "output_type": "stream",
     "name": "stdout",
     "text": "input_state :: <qsharp.chemistry.InputState object at 0x7f5768c2c050>\n"
    }
   ],
   "source": [
    "input_state = load_input_state(filename, \"UCCSD |G>\")\n",
    "print(\"input_state ::\", input_state)"
   ]
  },
  {
   "cell_type": "code",
   "execution_count": 32,
   "metadata": {
    "tags": []
   },
   "outputs": [
    {
     "output_type": "stream",
     "name": "stdout",
     "text": "jw_hamiltonian :: \n (4, ([([0], [0.17120128499999998]), ([1], [0.17120128499999998]), ([2], [-0.222796536]), ([3], [-0.222796536])], [([0, 1], [0.1686232915]), ([0, 2], [0.12054614575]), ([0, 3], [0.16586802525]), ([1, 2], [0.16586802525]), ([1, 3], [0.12054614575]), ([2, 3], [0.1743495025])], [], [([0, 1, 2, 3], [0.0, -0.0453218795, 0.0, 0.0453218795])]), (3, [((-1.97094587e-06, 0.0), [2, 0]), ((1.52745368e-07, 0.0), [3, 1]), ((-0.113070239, 0.0), [2, 3, 1, 0]), ((1.0, 0.0), [0, 1])]), -0.09883444600000002)\n"
    }
   ],
   "source": [
    "jw_hamiltonian = encode(ferm_hamiltonian, input_state)\n",
    "print(\"jw_hamiltonian :: \\n\", jw_hamiltonian)"
   ]
  },
  {
   "cell_type": "code",
   "execution_count": 33,
   "metadata": {},
   "outputs": [
    {
     "output_type": "execute_result",
     "data": {
      "text/plain": "4"
     },
     "metadata": {},
     "execution_count": 33
    }
   ],
   "source": [
    "jw_hamiltonian[0]"
   ]
  },
  {
   "cell_type": "code",
   "execution_count": 34,
   "metadata": {},
   "outputs": [
    {
     "output_type": "execute_result",
     "data": {
      "text/plain": "([([0], [0.17120128499999998]),\n  ([1], [0.17120128499999998]),\n  ([2], [-0.222796536]),\n  ([3], [-0.222796536])],\n [([0, 1], [0.1686232915]),\n  ([0, 2], [0.12054614575]),\n  ([0, 3], [0.16586802525]),\n  ([1, 2], [0.16586802525]),\n  ([1, 3], [0.12054614575]),\n  ([2, 3], [0.1743495025])],\n [],\n [([0, 1, 2, 3], [0.0, -0.0453218795, 0.0, 0.0453218795])])"
     },
     "metadata": {},
     "execution_count": 34
    }
   ],
   "source": [
    "jw_hamiltonian[1]"
   ]
  },
  {
   "cell_type": "code",
   "execution_count": 35,
   "metadata": {},
   "outputs": [
    {
     "output_type": "execute_result",
     "data": {
      "text/plain": "[([0], [0.17120128499999998]),\n ([1], [0.17120128499999998]),\n ([2], [-0.222796536]),\n ([3], [-0.222796536])]"
     },
     "metadata": {},
     "execution_count": 35
    }
   ],
   "source": [
    "jw_hamiltonian[1][0]"
   ]
  },
  {
   "cell_type": "code",
   "execution_count": 36,
   "metadata": {},
   "outputs": [
    {
     "output_type": "execute_result",
     "data": {
      "text/plain": "[([0, 1], [0.1686232915]),\n ([0, 2], [0.12054614575]),\n ([0, 3], [0.16586802525]),\n ([1, 2], [0.16586802525]),\n ([1, 3], [0.12054614575]),\n ([2, 3], [0.1743495025])]"
     },
     "metadata": {},
     "execution_count": 36
    }
   ],
   "source": [
    "jw_hamiltonian[1][1]"
   ]
  },
  {
   "cell_type": "code",
   "execution_count": 37,
   "metadata": {},
   "outputs": [
    {
     "output_type": "execute_result",
     "data": {
      "text/plain": "[]"
     },
     "metadata": {},
     "execution_count": 37
    }
   ],
   "source": [
    "jw_hamiltonian[1][2]"
   ]
  },
  {
   "cell_type": "code",
   "execution_count": 38,
   "metadata": {},
   "outputs": [
    {
     "output_type": "execute_result",
     "data": {
      "text/plain": "[([0, 1, 2, 3], [0.0, -0.0453218795, 0.0, 0.0453218795])]"
     },
     "metadata": {},
     "execution_count": 38
    }
   ],
   "source": [
    "jw_hamiltonian[1][3]"
   ]
  },
  {
   "cell_type": "code",
   "execution_count": 39,
   "metadata": {},
   "outputs": [
    {
     "output_type": "execute_result",
     "data": {
      "text/plain": "(3,\n [((-1.97094587e-06, 0.0), [2, 0]),\n  ((1.52745368e-07, 0.0), [3, 1]),\n  ((-0.113070239, 0.0), [2, 3, 1, 0]),\n  ((1.0, 0.0), [0, 1])])"
     },
     "metadata": {},
     "execution_count": 39
    }
   ],
   "source": [
    "jw_hamiltonian[2]"
   ]
  },
  {
   "cell_type": "code",
   "execution_count": 40,
   "metadata": {},
   "outputs": [
    {
     "output_type": "execute_result",
     "data": {
      "text/plain": "-0.09883444600000002"
     },
     "metadata": {},
     "execution_count": 40
    }
   ],
   "source": [
    "jw_hamiltonian[3]"
   ]
  },
  {
   "cell_type": "code",
   "execution_count": 41,
   "metadata": {},
   "outputs": [],
   "source": [
    "jw_hamiltonian_1 = (4, ([([0], [0.17120128499999998]), ([1], [0.17120128499999998]), ([2], [-0.222796536]), ([3], [-0.222796536])], [([0, 1], [0.1686232915]), ([0, 2], [0.12054614575]), ([0, 3], [0.16586802525]), ([1, 2], [0.16586802525]), ([1, 3], [0.12054614575]), ([2, 3], [0.1743495025])], [], [([0, 1, 2, 3], [0.0, -0.0453218795, 0.0, 0.0453218795])]), (3, [((0.001, 0.0), [2, 0]), ((-0.001, 0.0), [3, 1]), ((-0.001, 0.0), [2, 3, 1, 0]), ((1.0, 0.0), [0, 1])]), -0.09883444600000002)"
   ]
  },
  {
   "cell_type": "code",
   "execution_count": 42,
   "metadata": {},
   "outputs": [
    {
     "output_type": "execute_result",
     "data": {
      "text/plain": "((3,\n  [((-1.97094587e-06, 0.0), [2, 0]),\n   ((1.52745368e-07, 0.0), [3, 1]),\n   ((-0.113070239, 0.0), [2, 3, 1, 0]),\n   ((1.0, 0.0), [0, 1])]),\n (3,\n  [((0.001, 0.0), [2, 0]),\n   ((-0.001, 0.0), [3, 1]),\n   ((-0.001, 0.0), [2, 3, 1, 0]),\n   ((1.0, 0.0), [0, 1])]))"
     },
     "metadata": {},
     "execution_count": 42
    }
   ],
   "source": [
    "jw_hamiltonian[2],jw_hamiltonian_1[2]"
   ]
  },
  {
   "cell_type": "code",
   "execution_count": 43,
   "metadata": {
    "tags": []
   },
   "outputs": [
    {
     "output_type": "stream",
     "name": "stdout",
     "text": "[-1.97094587e-06, 1.52745368e-07, -0.113070239]\n"
    }
   ],
   "source": [
    "def get_var_params(jw_hamiltonian):\n",
    "    \"\"\" Retrieve the values of variational parameters from the jw_hamiltonian object \"\"\"\n",
    "    _, _, input_state, _ = jw_hamiltonian\n",
    "    _, var_params = input_state\n",
    "    params = [param for ((param, _), _) in var_params]\n",
    "    return params[:-1]\n",
    "\n",
    "var_params = get_var_params(jw_hamiltonian)\n",
    "print(var_params)"
   ]
  },
  {
   "cell_type": "code",
   "execution_count": 44,
   "metadata": {
    "tags": []
   },
   "outputs": [
    {
     "output_type": "stream",
     "name": "stdout",
     "text": "Energy evaluated at [-1.97094587e-06, 1.52745368e-07, -0.113070239] : -1.1372704135874288 \n\n"
    }
   ],
   "source": [
    "import qsharp\n",
    "\n",
    "# It is possible to create a Python object to represent a\n",
    "# Q# callable from the chemistry library\n",
    "estimate_energy = qsharp.QSharpCallable(\"Microsoft.Quantum.Chemistry.JordanWigner.VQE.EstimateEnergy\", \"\")\n",
    "\n",
    "# The Q# operation can then be called through the simulate method\n",
    "# A large number of samples is selected for high accuracy\n",
    "energy = estimate_energy.simulate(jwHamiltonian=jw_hamiltonian, nSamples=1e18)\n",
    "\n",
    "print(\"Energy evaluated at {0} : {1} \\n\".format(var_params, energy))"
   ]
  },
  {
   "cell_type": "code",
   "execution_count": 45,
   "metadata": {},
   "outputs": [],
   "source": [
    "def set_var_params(var_params, jw_hamiltonian):\n",
    "    \"\"\" Set variational parameters stored in the JW data-structure to the desired values\"\"\"\n",
    "    # Unpack data structure\n",
    "    a1, a2, input_state, a3 = jw_hamiltonian\n",
    "    b1, amps = input_state\n",
    "    # Unpack and overwrite variational parameters\n",
    "    new_amps = [((var_params[i], 0.0), amps[i][1]) for i in range(len(var_params))]\n",
    "    new_amps.append(amps[-1])\n",
    "    # Re-pack the data structure\n",
    "    input_state = (b1, new_amps)\n",
    "    jw_hamiltonian = (a1, a2, input_state, a3)\n",
    "    return jw_hamiltonian"
   ]
  },
  {
   "cell_type": "code",
   "execution_count": 46,
   "metadata": {},
   "outputs": [],
   "source": [
    "def energy_eval_wrapper(var_params, jw_hamiltonian, n_samples):\n",
    "    \"\"\"\n",
    "        A wrapper whose signature is compatible with the use of scipy optimizers,\n",
    "        calling the Q# energy_evalaution from the Microsoft Chemistry library\n",
    "    \"\"\"\n",
    "\n",
    "    # NumPy arrays are currently not supported by the Python interops\n",
    "    # This ensures that neither the user nor SciPy call the energy evaluation function with a NumPy array\n",
    "    var_params = list(var_params)\n",
    "\n",
    "    # Set the varational parameters to the right values in the jw_hamiltonian object\n",
    "    jw_hamiltonian = set_var_params(var_params, jw_hamiltonian)\n",
    "\n",
    "    # Estimate the energy\n",
    "    energy = estimate_energy.simulate(jwHamiltonian=jw_hamiltonian, nSamples=1e18)\n",
    "\n",
    "    print(\"Energy evaluated at {0} : {1} \\n\".format(var_params, energy))\n",
    "    return energy"
   ]
  },
  {
   "cell_type": "code",
   "execution_count": 47,
   "metadata": {},
   "outputs": [],
   "source": [
    "from scipy.optimize import minimize\n",
    "\n",
    "def VQE(initial_var_params, jw_hamiltonian, n_samples):\n",
    "    \"\"\" Run VQE Optimization to find the optimal energy and the associated variational parameters \"\"\"\n",
    "\n",
    "    opt_result = minimize(energy_eval_wrapper,\n",
    "                          initial_var_params,\n",
    "                          args=(jw_hamiltonian, n_samples),\n",
    "                          method=\"COBYLA\",\n",
    "                          tol=0.000001,\n",
    "                          options={'disp': True, 'maxiter': 200,'rhobeg' : 0.05})\n",
    "\n",
    "    return opt_result"
   ]
  },
  {
   "cell_type": "code",
   "execution_count": 48,
   "metadata": {
    "tags": []
   },
   "outputs": [
    {
     "output_type": "stream",
     "name": "stdout",
     "text": "[0.001, -0.001, -0.001]\n"
    }
   ],
   "source": [
    "var_params = get_var_params(jw_hamiltonian_1)\n",
    "print(var_params)"
   ]
  },
  {
   "cell_type": "code",
   "execution_count": 51,
   "metadata": {},
   "outputs": [
    {
     "output_type": "execute_result",
     "data": {
      "text/plain": "(4,\n ([([0], [0.17120128499999998]),\n   ([1], [0.17120128499999998]),\n   ([2], [-0.222796536]),\n   ([3], [-0.222796536])],\n  [([0, 1], [0.1686232915]),\n   ([0, 2], [0.12054614575]),\n   ([0, 3], [0.16586802525]),\n   ([1, 2], [0.16586802525]),\n   ([1, 3], [0.12054614575]),\n   ([2, 3], [0.1743495025])],\n  [],\n  [([0, 1, 2, 3], [0.0, -0.0453218795, 0.0, 0.0453218795])]),\n (3,\n  [((0.001, 0.0), [2, 0]),\n   ((-0.001, 0.0), [3, 1]),\n   ((-0.001, 0.0), [2, 3, 1, 0]),\n   ((1.0, 0.0), [0, 1])]),\n -0.09883444600000002)"
     },
     "metadata": {},
     "execution_count": 51
    }
   ],
   "source": [
    "jw_hamiltonian_1"
   ]
  },
  {
   "cell_type": "code",
   "execution_count": 49,
   "metadata": {
    "tags": []
   },
   "outputs": [
    {
     "output_type": "stream",
     "name": "stdout",
     "text": "Energy evaluated at [0.001, -0.001, -0.001] : -1.1170458248663953 \n\nEnergy evaluated at [0.051000000000000004, -0.001, -0.001] : -1.1150922914983998 \n\nEnergy evaluated at [0.001, 0.049, -0.001] : -1.1151731333704649 \n\nEnergy evaluated at [0.001, -0.001, 0.049] : -1.0951663453092637 \n\nEnergy evaluated at [-0.003430544614918868, -0.005247198107095861, -0.050621886125522236] : -1.1309325806793868 \n\nEnergy evaluated at [-0.010445844043116515, -0.011972187705851393, -0.09966839557144877] : -1.136731146118084 \n\nEnergy evaluated at [-0.045376304863984696, -0.046648994195775347, -0.10846509941448912] : -1.133112532092356 \n\nEnergy evaluated at [0.007178558003979868, -0.029702737460412118, -0.0997581612851238] : -1.1363369905813006 \n\nEnergy evaluated at [0.006671969388262139, 0.01179479725120924, -0.14019136300202284] : -1.1359148379572357 \n\nEnergy evaluated at [-0.0018869373274271878, -8.869522732107664e-05, -0.1199298792867358] : -1.1371913076364293 \n\nEnergy evaluated at [0.01052149804151503, 0.01954360898874096, -0.1106776707469991] : -1.1367978570074646 \n\nEnergy evaluated at [-0.015400532997409481, 0.0032318771736016103, -0.14069900375067185] : -1.135854923653508 \n\nEnergy evaluated at [0.008149366694411431, -0.007271260472657736, -0.1219131488291097] : -1.13706980044019 \n\nEnergy evaluated at [-0.004940776585803529, 0.0004634731375840334, -0.12535497614124425] : -1.1370074894955229 \n\nEnergy evaluated at [-0.00020411523669711822, 0.002452873541485717, -0.12061847423616312] : -1.1371735183001355 \n\nEnergy evaluated at [-0.0022668028210570336, 0.0006208016250050754, -0.11373191055308696] : -1.1372658569107839 \n\nEnergy evaluated at [0.002254264597752693, -0.0028011431288024313, -0.11110270088163311] : -1.1372563635135844 \n\nEnergy evaluated at [-0.0057767198222605926, 0.001183441387780604, -0.10859124725522294] : -1.1372133158576276 \n\nEnergy evaluated at [-0.0005998476879784729, 0.0032380860488251473, -0.11336217033464721] : -1.1372624468017634 \n\nEnergy evaluated at [-0.0010954634432478222, -0.0002470429927338855, -0.1131695796616582] : -1.1372693065774109 \n\nEnergy evaluated at [-0.0008085643117436279, -0.000327750069566413, -0.1138917477989997] : -1.1372686108712946 \n\nEnergy evaluated at [-0.000641642217516722, -0.0014457971384275016, -0.11227602437894857] : -1.1372671061174455 \n\nEnergy evaluated at [-4.011044212471758e-05, 0.0008077136233076418, -0.11270576420920207] : -1.1372697050135945 \n\nEnergy evaluated at [-0.0005359668479486329, 0.001402109244521105, -0.11260006731811416] : -1.137268569481352 \n\nEnergy evaluated at [-9.307196502055009e-05, 0.0006975581045349647, -0.1123347537923652] : -1.1372691898194187 \n\nEnergy evaluated at [0.0005177344008886553, 0.0006225955608817131, -0.11322044080337268] : -1.1372697422909588 \n\nEnergy evaluated at [0.0004122095555288026, 0.0009155899553556677, -0.11345625149533473] : -1.1372692355545433 \n\nEnergy evaluated at [0.00039324066567963863, 0.0005036035084246844, -0.11331257751702159] : -1.1372699211524417 \n\nEnergy evaluated at [0.0003506223350015734, 0.00012226721146482554, -0.11323940513742274] : -1.1372702401153894 \n\nEnergy evaluated at [0.000172600982321408, -0.00021006876503297582, -0.11334162591486147] : -1.1372702439094171 \n\nEnergy evaluated at [0.0003183510679592768, -0.000250094063697721, -0.113465326604672] : -1.1372700528020232 \n\nEnergy evaluated at [0.00016615465287786883, -0.0003240622587160595, -0.11296805956351323] : -1.1372703149394412 \n\nEnergy evaluated at [-0.00017899715672077394, -0.0001766383455893287, -0.11285978071611363] : -1.137270285790625 \n\nEnergy evaluated at [0.00024783865281960724, -0.0004235551402645007, -0.1128211723165142] : -1.1372701682693025 \n\nEnergy evaluated at [0.00011476075509696894, -0.00040323365833514857, -0.11299310551962002] : -1.137270285191347 \n\nEnergy evaluated at [2.018752565777939e-05, -0.00020602157285706297, -0.11291414326811655] : -1.1372703459595201 \n\nEnergy evaluated at [2.1749291862608498e-05, -0.0001405120509255779, -0.11298655049556446] : -1.1372703900399679 \n\nEnergy evaluated at [3.0487899860881964e-05, -5.5023308135748354e-05, -0.11303294073969541] : -1.137270410394522 \n\nEnergy evaluated at [-2.8955874980507173e-05, -6.443294823024439e-05, -0.11310984743296694] : -1.1372704065716897 \n\nEnergy evaluated at [6.62228136523953e-05, -7.706935317077757e-05, -0.11305786409471921] : -1.1372704083182676 \n\nEnergy evaluated at [5.82008984864995e-05, 3.6476661344493825e-05, -0.11305285275758295] : -1.1372704098724475 \n\nEnergy evaluated at [2.0925439263165735e-05, -4.655150493171372e-05, -0.11298581353217359] : -1.137270403242494 \n\nEnergy evaluated at [1.3476713801733227e-05, -5.420006816252138e-05, -0.11305043326017022] : -1.1372704112426377 \n\nEnergy evaluated at [2.0437738811663616e-05, -3.193180937384797e-05, -0.1130576245903035] : -1.1372704136256422 \n\nEnergy evaluated at [1.70014791595759e-05, -8.672867365898378e-06, -0.11306420183775423] : -1.1372704139524923 \n\nEnergy evaluated at [3.224467837636551e-05, -1.0609920692999251e-05, -0.11308317390010389] : -1.1372704133843436 \n\nEnergy evaluated at [2.6518339723609994e-05, -7.144412575336628e-06, -0.11305671152381579] : -1.1372704134109575 \n\nEnergy evaluated at [1.111485957538536e-06, 9.042356276164592e-06, -0.1130696539396521] : -1.1372704140818541 \n\nEnergy evaluated at [-8.523632245336512e-06, 1.6023198057324646e-06, -0.1130705605633192] : -1.1372704135123644 \n\nEnergy evaluated at [2.2756858751084573e-06, 8.258503103584446e-06, -0.11307559389888937] : -1.1372704139082743 \n\nEnergy evaluated at [6.810702838457625e-06, 1.7732811115924544e-05, -0.11306325030524961] : -1.1372704138475624 \n\nEnergy evaluated at [3.7020425458508073e-06, 1.0046073639666496e-05, -0.11307508850228414] : -1.137270415090203 \n\nEnergy evaluated at [3.7280793558440168e-06, 1.3079019105275257e-05, -0.11308038505464126] : -1.1372704135183849 \n\nEnergy evaluated at [5.47264696346026e-06, 1.2199297870909815e-05, -0.11307384680539984] : -1.1372704135032374 \n\nEnergy evaluated at [5.67237137999325e-06, 4.417066433199729e-06, -0.11307638657205865] : -1.137270413827018 \n\nEnergy evaluated at [1.2476498280586634e-06, 1.0411692366044289e-05, -0.11307686487642263] : -1.137270413795803 \n\nEnergy evaluated at [2.9623981352805423e-06, 9.598101883070284e-06, -0.11307383130146972] : -1.1372704136954979 \n\nEnergy evaluated at [4.604554888761132e-06, 9.104597090111884e-06, -0.1130758805880207] : -1.137270414560951 \n\nEnergy evaluated at [3.196745856625325e-06, 1.0489242213451845e-05, -0.11307582895948821] : -1.1372704139951084 \n\nEnergy evaluated at [4.432505196349909e-06, 1.0653825636648228e-05, -0.1130747769548136] : -1.1372704135585567 \n\n     fun: -1.1372704135585567\n   maxcv: 0.0\n message: 'Optimization terminated successfully.'\n    nfev: 60\n  status: 1\n success: True\n       x: array([ 4.43250520e-06,  1.06538256e-05, -1.13074777e-01])\n"
    }
   ],
   "source": [
    "# Run VQE and print the results of the optimization process\n",
    "# A large number of samples is selected for higher accuracy\n",
    "opt_result = VQE(var_params, jw_hamiltonian_1, n_samples=1e18)\n",
    "print(opt_result)"
   ]
  },
  {
   "cell_type": "code",
   "execution_count": 50,
   "metadata": {
    "tags": []
   },
   "outputs": [
    {
     "output_type": "stream",
     "name": "stdout",
     "text": "Difference with exact FCI value ::  8.533883377737084e-09\n"
    }
   ],
   "source": [
    "# Print difference with exact FCI value known for this bond length\n",
    "fci_value = -1.1372704220924401\n",
    "print(\"Difference with exact FCI value :: \", abs(opt_result.fun - fci_value))"
   ]
  },
  {
   "cell_type": "code",
   "execution_count": 71,
   "metadata": {},
   "outputs": [],
   "source": [
    "num_qubits, hamiltonian_term_list, input_state_1, energy_offset = jw_hamiltonian_1"
   ]
  },
  {
   "cell_type": "code",
   "execution_count": 72,
   "metadata": {},
   "outputs": [
    {
     "output_type": "execute_result",
     "data": {
      "text/plain": "([([0], [0.17120128499999998]),\n  ([1], [0.17120128499999998]),\n  ([2], [-0.222796536]),\n  ([3], [-0.222796536])],\n [([0, 1], [0.1686232915]),\n  ([0, 2], [0.12054614575]),\n  ([0, 3], [0.16586802525]),\n  ([1, 2], [0.16586802525]),\n  ([1, 3], [0.12054614575]),\n  ([2, 3], [0.1743495025])],\n [],\n [([0, 1, 2, 3], [0.0, -0.0453218795, 0.0, 0.0453218795])])"
     },
     "metadata": {},
     "execution_count": 72
    }
   ],
   "source": [
    "hamiltonian_term_list"
   ]
  },
  {
   "cell_type": "code",
   "execution_count": 73,
   "metadata": {},
   "outputs": [
    {
     "output_type": "execute_result",
     "data": {
      "text/plain": "(3,\n [((0.001, 0.0), [2, 0]),\n  ((-0.001, 0.0), [3, 1]),\n  ((-0.001, 0.0), [2, 3, 1, 0]),\n  ((1.0, 0.0), [0, 1])])"
     },
     "metadata": {},
     "execution_count": 73
    }
   ],
   "source": [
    "input_state_1"
   ]
  },
  {
   "cell_type": "code",
   "execution_count": 74,
   "metadata": {},
   "outputs": [
    {
     "output_type": "execute_result",
     "data": {
      "text/plain": "-0.09883444600000002"
     },
     "metadata": {},
     "execution_count": 74
    }
   ],
   "source": [
    "energy_offset"
   ]
  },
  {
   "cell_type": "code",
   "execution_count": 1,
   "metadata": {},
   "outputs": [],
   "source": [
    "hamiltonian_term_list = ([([0], [0.17120128499999998]),\n",
    "  ([1], [0.17120128499999998]),\n",
    "  ([2], [-0.222796536]),\n",
    "  ([3], [-0.222796536])],\n",
    " [([0, 1], [0.1686232915]),\n",
    "  ([0, 2], [0.12054614575]),\n",
    "  ([0, 3], [0.16586802525]),\n",
    "  ([1, 2], [0.16586802525]),\n",
    "  ([1, 3], [0.12054614575]),\n",
    "  ([2, 3], [0.1743495025])],\n",
    " [],\n",
    " [([0, 1, 2, 3], [0.0, -0.0453218795, 0.0, 0.0453218795])])"
   ]
  },
  {
   "cell_type": "code",
   "execution_count": 2,
   "metadata": {},
   "outputs": [],
   "source": [
    "input_state_1 = (3,\n",
    " [((0.001, 0.0), [2, 0]),\n",
    "  ((-0.001, 0.0), [3, 1]),\n",
    "  ((-0.001, 0.0), [2, 3, 1, 0]),\n",
    "  ((1.0, 0.0), [0, 1])])"
   ]
  },
  {
   "cell_type": "code",
   "execution_count": 3,
   "metadata": {},
   "outputs": [],
   "source": [
    "energy_offset = -0.09883444600000002"
   ]
  },
  {
   "cell_type": "code",
   "execution_count": 4,
   "metadata": {},
   "outputs": [],
   "source": [
    "num_qubits = 4"
   ]
  },
  {
   "cell_type": "code",
   "execution_count": 76,
   "metadata": {
    "tags": []
   },
   "outputs": [
    {
     "output_type": "stream",
     "name": "stdout",
     "text": "Energy evaluated at [0.001, -0.001, -0.001] : None \n\nInvalid operation name: Microsoft.Quantum.Samples.Chemistry.VariationalQuantumEigensolver.EstimateEnergy\n"
    }
   ],
   "source": [
    "import qsharp\n",
    "\n",
    "# It is possible to create a Python object to represent a\n",
    "# Q# callable from the chemistry library\n",
    "estimate_energy2 = qsharp.QSharpCallable(\"Microsoft.Quantum.Samples.Chemistry.VariationalQuantumEigensolver.EstimateEnergy\", \"\")\n",
    "\n",
    "# The Q# operation can then be called through the simulate method\n",
    "# A large number of samples is selected for high accuracy\n",
    "energy = estimate_energy2.simulate(\n",
    "    nQubits=num_qubits,\n",
    "    hamiltonianTermList=hamiltonian_term_list, \n",
    "    inputState=input_state_1,\n",
    "    energyOffset=energy_offset,\n",
    "    nSamples=1e18)\n",
    "\n",
    "print(\"Energy evaluated at {0} : {1} \\n\".format(var_params, energy))"
   ]
  },
  {
   "cell_type": "code",
   "execution_count": null,
   "metadata": {},
   "outputs": [],
   "source": []
  }
 ]
}