{
 "metadata": {
  "language_info": {
   "codemirror_mode": {
    "name": "ipython",
    "version": 3
   },
   "file_extension": ".py",
   "mimetype": "text/x-python",
   "name": "python",
   "nbconvert_exporter": "python",
   "pygments_lexer": "ipython3",
   "version": "3.7.8-final"
  },
  "orig_nbformat": 2,
  "kernelspec": {
   "name": "python_defaultSpec_1599316273646",
   "display_name": "Python 3.7.8 64-bit"
  }
 },
 "nbformat": 4,
 "nbformat_minor": 2,
 "cells": [
  {
   "cell_type": "code",
   "execution_count": 1,
   "metadata": {
    "tags": []
   },
   "outputs": [
    {
     "output_type": "stream",
     "name": "stdout",
     "text": "Preparing Q# environment...\n.Adding package microsoft.quantum.chemistry.jupyter."
    }
   ],
   "source": [
    "from qsharp.chemistry import load_broombridge, load_fermion_hamiltonian, load_input_state, encode"
   ]
  },
  {
   "cell_type": "code",
   "execution_count": 2,
   "metadata": {},
   "outputs": [],
   "source": [
    "filename = 'data/hydrogen_0.2.yaml'\n",
    "broombridge_data =  load_broombridge(filename)"
   ]
  },
  {
   "cell_type": "code",
   "execution_count": 3,
   "metadata": {
    "tags": []
   },
   "outputs": [
    {
     "output_type": "stream",
     "name": "stdout",
     "text": "nuclear_repulsion =  0.713776188\none_electron_integrals =  [([1, 1], -1.252477495), ([2, 2], -0.475934275)]\n"
    }
   ],
   "source": [
    "# Retrieve basis set and geometry used to generate the input data\n",
    "basis_set = broombridge_data.problem_description[0].basis_set\n",
    "geometry = broombridge_data.problem_description[0].geometry\n",
    "\n",
    "# Retrieve the nuclear repulsion and the one-electron integrals (Mulliken convention)\n",
    "nuclear_repulsion = broombridge_data.problem_description[0].coulomb_repulsion['Value']\n",
    "one_electron_integrals =  broombridge_data.problem_description[0].hamiltonian['OneElectronIntegrals']['Values']\n",
    "\n",
    "print(\"nuclear_repulsion = \", nuclear_repulsion)\n",
    "print(\"one_electron_integrals = \", one_electron_integrals)"
   ]
  },
  {
   "cell_type": "code",
   "execution_count": 4,
   "metadata": {
    "tags": []
   },
   "outputs": [
    {
     "output_type": "stream",
     "name": "stdout",
     "text": "ferm_hamiltonian :: <qsharp.chemistry.FermionHamiltonian object at 0x7f5590d52590>\n"
    }
   ],
   "source": [
    "ferm_hamiltonian = broombridge_data.problem_description[0].load_fermion_hamiltonian()\n",
    "print(\"ferm_hamiltonian ::\", ferm_hamiltonian)"
   ]
  },
  {
   "cell_type": "code",
   "execution_count": 5,
   "metadata": {
    "tags": []
   },
   "outputs": [
    {
     "output_type": "stream",
     "name": "stdout",
     "text": "input_state :: <qsharp.chemistry.InputState object at 0x7f5590d56750>\n"
    }
   ],
   "source": [
    "input_state = load_input_state(filename, \"UCCSD |G>\")\n",
    "print(\"input_state ::\", input_state)"
   ]
  },
  {
   "cell_type": "code",
   "execution_count": 6,
   "metadata": {
    "tags": []
   },
   "outputs": [
    {
     "output_type": "stream",
     "name": "stdout",
     "text": "jw_hamiltonian :: \n (4, ([([0], [0.17120128499999998]), ([1], [0.17120128499999998]), ([2], [-0.222796536]), ([3], [-0.222796536])], [([0, 1], [0.1686232915]), ([0, 2], [0.12054614575]), ([0, 3], [0.16586802525]), ([1, 2], [0.16586802525]), ([1, 3], [0.12054614575]), ([2, 3], [0.1743495025])], [], [([0, 1, 2, 3], [0.0, -0.0453218795, 0.0, 0.0453218795])]), (3, [((0.001, 0.0), [2, 0]), ((-0.001, 0.0), [3, 1]), ((0.001, 0.0), [2, 3, 1, 0]), ((1.0, 0.0), [0, 1])]), -0.09883444600000002)\n"
    }
   ],
   "source": [
    "jw_hamiltonian = encode(ferm_hamiltonian, input_state)\n",
    "print(\"jw_hamiltonian :: \\n\", jw_hamiltonian)"
   ]
  },
  {
   "cell_type": "code",
   "execution_count": 7,
   "metadata": {
    "tags": []
   },
   "outputs": [
    {
     "output_type": "stream",
     "name": "stdout",
     "text": "[0.001, -0.001, 0.001]\n"
    }
   ],
   "source": [
    "def get_var_params(jw_hamiltonian):\n",
    "    \"\"\" Retrieve the values of variational parameters from the jw_hamiltonian object \"\"\"\n",
    "    _, _, input_state, _ = jw_hamiltonian\n",
    "    _, var_params = input_state\n",
    "    params = [param for ((param, _), _) in var_params]\n",
    "    return params[:-1]\n",
    "\n",
    "var_params = get_var_params(jw_hamiltonian)\n",
    "print(var_params)"
   ]
  },
  {
   "cell_type": "code",
   "execution_count": 25,
   "metadata": {
    "tags": []
   },
   "outputs": [
    {
     "output_type": "stream",
     "name": "stdout",
     "text": "Energy evaluated at [0.001, -0.001, 0.001] : -1.116320683389766 \n\n"
    }
   ],
   "source": [
    "import qsharp\n",
    "\n",
    "# It is possible to create a Python object to represent a\n",
    "# Q# callable from the chemistry library\n",
    "estimate_energy = qsharp.QSharpCallable(\"Microsoft.Quantum.Chemistry.JordanWigner.VQE.EstimateEnergy\", \"\")\n",
    "\n",
    "# The Q# operation can then be called through the simulate method\n",
    "# A large number of samples is selected for high accuracy\n",
    "energy = estimate_energy.simulate(jwHamiltonian=jw_hamiltonian, nSamples=1e18)\n",
    "\n",
    "print(\"Energy evaluated at {0} : {1} \\n\".format(var_params, energy))"
   ]
  },
  {
   "cell_type": "code",
   "execution_count": 9,
   "metadata": {},
   "outputs": [],
   "source": [
    "def set_var_params(var_params, jw_hamiltonian):\n",
    "    \"\"\" Set variational parameters stored in the JW data-structure to the desired values\"\"\"\n",
    "    # Unpack data structure\n",
    "    a1, a2, input_state, a3 = jw_hamiltonian\n",
    "    b1, amps = input_state\n",
    "    # Unpack and overwrite variational parameters\n",
    "    new_amps = [((var_params[i], 0.0), amps[i][1]) for i in range(len(var_params))]\n",
    "    new_amps.append(amps[-1])\n",
    "    # Re-pack the data structure\n",
    "    input_state = (b1, new_amps)\n",
    "    jw_hamiltonian = (a1, a2, input_state, a3)\n",
    "    return jw_hamiltonian"
   ]
  },
  {
   "cell_type": "code",
   "execution_count": 10,
   "metadata": {},
   "outputs": [],
   "source": [
    "def energy_eval_wrapper(var_params, jw_hamiltonian, n_samples):\n",
    "    \"\"\"\n",
    "        A wrapper whose signature is compatible with the use of scipy optimizers,\n",
    "        calling the Q# energy_evalaution from the Microsoft Chemistry library\n",
    "    \"\"\"\n",
    "\n",
    "    # NumPy arrays are currently not supported by the Python interops\n",
    "    # This ensures that neither the user nor SciPy call the energy evaluation function with a NumPy array\n",
    "    var_params = list(var_params)\n",
    "\n",
    "    # Set the varational parameters to the right values in the jw_hamiltonian object\n",
    "    jw_hamiltonian = set_var_params(var_params, jw_hamiltonian)\n",
    "\n",
    "    # Estimate the energy\n",
    "    energy = estimate_energy.simulate(jwHamiltonian=jw_hamiltonian, nSamples=1e18)\n",
    "\n",
    "    print(\"Energy evaluated at {0} : {1} \\n\".format(var_params, energy))\n",
    "    return energy"
   ]
  },
  {
   "cell_type": "code",
   "execution_count": 11,
   "metadata": {},
   "outputs": [],
   "source": [
    "from scipy.optimize import minimize\n",
    "\n",
    "def VQE(initial_var_params, jw_hamiltonian, n_samples):\n",
    "    \"\"\" Run VQE Optimization to find the optimal energy and the associated variational parameters \"\"\"\n",
    "\n",
    "    opt_result = minimize(energy_eval_wrapper,\n",
    "                          initial_var_params,\n",
    "                          args=(jw_hamiltonian, n_samples),\n",
    "                          method=\"COBYLA\",\n",
    "                          tol=0.000001,\n",
    "                          options={'disp': True, 'maxiter': 200,'rhobeg' : 0.05})\n",
    "\n",
    "    return opt_result"
   ]
  },
  {
   "cell_type": "code",
   "execution_count": 13,
   "metadata": {
    "tags": []
   },
   "outputs": [
    {
     "output_type": "stream",
     "name": "stdout",
     "text": "Energy evaluated at [0.001, -0.001, 0.001] : -1.1163206833694206 \n\nEnergy evaluated at [0.051000000000000004, -0.001, 0.001] : -1.1143693476093461 \n\nEnergy evaluated at [0.001, 0.049, 0.001] : -1.1144494157068259 \n\nEnergy evaluated at [0.001, -0.001, 0.051000000000000004] : -1.0941301536809216 \n\nEnergy evaluated at [-0.0033645025138452564, -0.00518541625925021, -0.04863298710075229] : -1.1305266764099717 \n\nEnergy evaluated at [-0.01021579424489009, -0.011755582668140094, -0.09772364522402063] : -1.1366498444335464 \n\nEnergy evaluated at [-0.04496727191940477, -0.046255806787029896, -0.1078265821823552] : -1.1331696225130465 \n\nEnergy evaluated at [0.007410274691206744, -0.029484488285011885, -0.0978108202664006] : -1.1362581506365759 \n\nEnergy evaluated at [0.0067936479471139375, 0.011608616182394326, -0.13852552126409456] : -1.1360580838371521 \n\nEnergy evaluated at [-0.001711073148888076, -7.348324287288419e-05, -0.11812458324405761] : -1.1372266410892609 \n\nEnergy evaluated at [0.011010906350589713, 0.020251827218275533, -0.11105118291092238] : -1.1367639230628113 \n\nEnergy evaluated at [-0.01406922731846205, 0.0012726651435191457, -0.1398147632811817] : -1.1359617023827626 \n\nEnergy evaluated at [0.00830553512244824, -0.007284840337506782, -0.1201029380131196] : -1.1371149024629825 \n\nEnergy evaluated at [-0.0034096823603033248, -0.002693600412062269, -0.11271050781360652] : -1.1372520296052087 \n\nEnergy evaluated at [-0.005190146942986991, -0.004741533866652803, -0.1142601979230729] : -1.1372204225055151 \n\nEnergy evaluated at [-0.00429489454556487, 0.0019511343462525208, -0.10862329135102872] : -1.1372241982482665 \n\nEnergy evaluated at [0.0021229038729921727, -0.004889939985486662, -0.1108054928400803] : -1.1372436697769093 \n\nEnergy evaluated at [-0.005056699366849413, -0.005349278967301841, -0.11269230365505356] : -1.1372177572528672 \n\nEnergy evaluated at [-0.0019643895349968975, -0.0030664091194156466, -0.11224839465988844] : -1.1372567155479314 \n\nEnergy evaluated at [-0.002167983857060035, -0.002935051330378288, -0.11150566587642649] : -1.1372536838481166 \n\nEnergy evaluated at [-0.0010641499188172787, -0.0018949654254261587, -0.11275701490650966] : -1.1372658163034073 \n\nEnergy evaluated at [0.00013596258082814328, -0.001263485201533462, -0.11353313922968684] : -1.1372688502583759 \n\nEnergy evaluated at [-0.0006920664744070862, -0.0002171042891919671, -0.11434607288009974] : -1.137267286401134 \n\nEnergy evaluated at [0.00011543230539327968, -0.0007945428660438415, -0.11290862089026349] : -1.1372699022801762 \n\nEnergy evaluated at [0.0015170704059288673, -0.00011064226018825754, -0.11281324350071358] : -1.1372685548829913 \n\nEnergy evaluated at [-0.00016846622174233764, -0.000980925184355089, -0.11220504799410336] : -1.1372683836512154 \n\nEnergy evaluated at [-0.00028573446550310617, -0.00017935290038845197, -0.11317500048892955] : -1.1372702859586359 \n\nEnergy evaluated at [1.5502916986651408e-05, 6.875091466479439e-05, -0.11319198362679463] : -1.1372703831737798 \n\nEnergy evaluated at [-2.03626712012124e-05, 0.0001248656894932143, -0.11300837599000861] : -1.1372703977028609 \n\nEnergy evaluated at [-9.744422700757314e-05, 0.0005009888592152926, -0.1130803321264925] : -1.1372702259848646 \n\nEnergy evaluated at [0.0003003363069241768, -3.482927992203122e-05, -0.11285269178143949] : -1.1372702740102785 \n\nEnergy evaluated at [-0.00017187990067093944, 3.9263757281025505e-06, -0.11298464448739938] : -1.1372703810164295 \n\nEnergy evaluated at [-6.436171126301074e-05, 0.00021066275267772524, -0.11302385796619435] : -1.1372703783839877 \n\nEnergy evaluated at [5.434222292213881e-05, 9.153521868858434e-05, -0.1129550374329038] : -1.1372703848801717 \n\nEnergy evaluated at [-5.4938804909432124e-05, 9.169612453199706e-05, -0.11299897084625157] : -1.1372704002440672 \n\nEnergy evaluated at [-4.732428045534049e-05, 7.83743246181347e-05, -0.11301796018831882] : -1.137270405407095 \n\nEnergy evaluated at [-5.6880981647316376e-05, 6.076226207629447e-05, -0.11306248737671383] : -1.137270410369462 \n\nEnergy evaluated at [-3.222851368836588e-05, 1.9433778172178593e-05, -0.1130707576870306] : -1.137270413164782 \n\nEnergy evaluated at [3.5234349753135465e-06, 3.937977437442086e-05, -0.11309736860947357] : -1.1372704112737155 \n\nEnergy evaluated at [-5.383690730307357e-05, -1.5418961024289438e-05, -0.11309726334089748] : -1.1372704100750912 \n\nEnergy evaluated at [-2.1096677615832446e-05, 1.1295661006283905e-05, -0.11305061073385148] : -1.137270413927356 \n\nEnergy evaluated at [-2.2533618555788207e-05, -1.2800286642888464e-05, -0.11304695464914549] : -1.1372704130630598 \n\nEnergy evaluated at [-3.141097772259409e-05, 1.2872070774822793e-05, -0.11304427498152932] : -1.1372704121041952 \n\nEnergy evaluated at [2.3647134264265978e-06, 1.439876164291349e-05, -0.1130566090956741] : -1.1372704141968328 \n\nEnergy evaluated at [3.1862006011256968e-06, 2.901115305411781e-06, -0.11306062666950142] : -1.1372704137683094 \n\nEnergy evaluated at [6.963895127001279e-07, 1.6228855994565202e-05, -0.11306218765758265] : -1.1372704132630629 \n\nEnergy evaluated at [6.313312022425982e-06, 1.354590522923614e-05, -0.11304508985885026] : -1.1372704137969833 \n\nEnergy evaluated at [2.087645767100148e-06, 1.9544566971224433e-05, -0.1130598796956221] : -1.1372704140615282 \n\nEnergy evaluated at [-3.600730236508894e-06, 1.4328162617746536e-05, -0.11305532014235198] : -1.1372704138047869 \n\nEnergy evaluated at [4.025029325603125e-06, 1.2551963433752394e-05, -0.11305838276791996] : -1.1372704142711454 \n\nEnergy evaluated at [6.847069439766214e-06, 1.2407730142443874e-05, -0.1130572301569284] : -1.1372704139245151 \n\nEnergy evaluated at [3.6138059481471906e-06, 1.1358703151785792e-05, -0.11305752525309802] : -1.1372704146588628 \n\nEnergy evaluated at [1.939157553288472e-06, 8.87262478321889e-06, -0.11305695237191916] : -1.137270414196212 \n\nEnergy evaluated at [4.680053360767962e-06, 1.120961837383617e-05, -0.11305644395914141] : -1.13727041430186 \n\nEnergy evaluated at [4.011353132419532e-06, 1.0893934874939355e-05, -0.11305798134880536] : -1.137270413235031 \n\nEnergy evaluated at [2.5753649089571812e-06, 1.2074336743387432e-05, -0.113056666291395] : -1.137270413982181 \n\nEnergy evaluated at [3.548319349529865e-06, 1.0517611382055831e-05, -0.1130580621666295] : -1.137270414059536 \n\n     fun: -1.137270414059536\n   maxcv: 0.0\n message: 'Optimization terminated successfully.'\n    nfev: 57\n  status: 1\n success: True\n       x: array([ 3.54831935e-06,  1.05176114e-05, -1.13058062e-01])\n"
    }
   ],
   "source": [
    "# Run VQE and print the results of the optimization process\n",
    "# A large number of samples is selected for higher accuracy\n",
    "opt_result = VQE(var_params, jw_hamiltonian, n_samples=1e18)\n",
    "print(opt_result)"
   ]
  },
  {
   "cell_type": "code",
   "execution_count": 14,
   "metadata": {
    "tags": []
   },
   "outputs": [
    {
     "output_type": "stream",
     "name": "stdout",
     "text": "Difference with exact FCI value ::  8.032904119659179e-09\n"
    }
   ],
   "source": [
    "# Print difference with exact FCI value known for this bond length\n",
    "fci_value = -1.1372704220924401\n",
    "print(\"Difference with exact FCI value :: \", abs(opt_result.fun - fci_value))"
   ]
  },
  {
   "cell_type": "code",
   "execution_count": 17,
   "metadata": {},
   "outputs": [],
   "source": [
    "num_qubits, hamiltonian_term_list, input_state, energy_offset = jw_hamiltonian"
   ]
  },
  {
   "cell_type": "code",
   "execution_count": 19,
   "metadata": {},
   "outputs": [],
   "source": [
    "var_params = get_var_params(jw_hamiltonian)"
   ]
  },
  {
   "cell_type": "code",
   "execution_count": 29,
   "metadata": {},
   "outputs": [],
   "source": [
    "qsharp.reload()"
   ]
  },
  {
   "cell_type": "code",
   "execution_count": 32,
   "metadata": {},
   "outputs": [
    {
     "output_type": "execute_result",
     "data": {
      "text/plain": "4"
     },
     "metadata": {},
     "execution_count": 32
    }
   ],
   "source": [
    "num_qubits"
   ]
  },
  {
   "cell_type": "code",
   "execution_count": 38,
   "metadata": {
    "tags": []
   },
   "outputs": [
    {
     "output_type": "stream",
     "name": "stdout",
     "text": "Unhandled exception. System.NotImplementedException: The method or operation is not implemented.\n ---> Microsoft.Quantum.Samples.Chemistry.VQE.StatePreparation.PrepareSingleConfigurationalStateSingleSiteOccupation on /workspaces/Quantum/samples/chemistry/VariationalQuantumEigensolver/StatePreparation.qs:line 0\n   at Microsoft.Quantum.Canon.ApplyControlledOnBitString on /workspaces/Quantum/samples/chemistry/VariationalQuantumEigensolver/D:\\a\\1\\s\\submodules\\QuantumLibraries\\Standard\\src\\Canon\\Utils\\ControlledOnBitString.qs:line 0\n   at Microsoft.Quantum.Canon.ApplyControlledOnInt on /workspaces/Quantum/samples/chemistry/VariationalQuantumEigensolver/D:\\a\\1\\s\\submodules\\QuantumLibraries\\Standard\\src\\Canon\\Utils\\ControlledOnBitString.qs:line 0\n   at Microsoft.Quantum.Canon.MultiplexOperationsBruteForceFromGenerator on /workspaces/Quantum/samples/chemistry/VariationalQuantumEigensolver/D:\\a\\1\\s\\submodules\\QuantumLibraries\\Standard\\src\\Canon\\Multiplexer.qs:line 0\n   at Microsoft.Quantum.Samples.Chemistry.VQE.StatePreparation.PrepareSparseMultiConfigurationalState on /workspaces/Quantum/samples/chemistry/VariationalQuantumEigensolver/StatePreparation.qs:line 0\n   at Microsoft.Quantum.Samples.Chemistry.VQE.StatePreparation.PrepareTrialState on /workspaces/Quantum/samples/chemistry/VariationalQuantumEigensolver/StatePreparation.qs:line 0\n   at Microsoft.Quantum.Samples.Chemistry.VQE.EstimateEnergy.TermExpectation on /workspaces/Quantum/samples/chemistry/VariationalQuantumEigensolver/EstimateEnergy.qs:line 0\n   at Microsoft.Quantum.Samples.Chemistry.VQE.EstimateEnergy.SumTermExpectation on /workspaces/Quantum/samples/chemistry/VariationalQuantumEigensolver/EstimateEnergy.qs:line 0\n   at Microsoft.Quantum.Samples.Chemistry.VariationalQuantumEigensolver.EstimateEnergy1 on /workspaces/Quantum/samples/chemistry/VariationalQuantumEigensolver/VariationalQuantumEigensolver.qs:line 0\nEnergy evaluated at [0.001, -0.001, 0.001] : None \n\nThe method or operation is not implemented.\n"
    }
   ],
   "source": [
    "import qsharp\n",
    "qsharp.reload()\n",
    "from Microsoft.Quantum.Samples.Chemistry.VariationalQuantumEigensolver import EstimateEnergy1\n",
    "\n",
    "# It is possible to create a Python object to represent a\n",
    "# Q# callable from the chemistry library\n",
    "# estimate_energy2 = qsharp.QSharpCallable(\"Microsoft.Quantum.Samples.Chemistry.VariationalQuantumEigensolver.EstimateEnergy\", \"\")\n",
    "\n",
    "# The Q# operation can then be called through the simulate method\n",
    "# A large number of samples is selected for high accuracy\n",
    "energy = EstimateEnergy1.simulate(\n",
    "    nQubits=num_qubits,\n",
    "    hamiltonianTermList=hamiltonian_term_list, \n",
    "    inputState=input_state,\n",
    "    energyOffset=energy_offset,\n",
    "    nSamples=1e18)\n",
    "\n",
    "print(\"Energy evaluated at {0} : {1} \\n\".format(var_params, energy))"
   ]
  },
  {
   "cell_type": "code",
   "execution_count": null,
   "metadata": {},
   "outputs": [],
   "source": []
  }
 ]
}