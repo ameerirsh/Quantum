{
 "metadata": {
  "language_info": {
   "codemirror_mode": {
    "name": "ipython",
    "version": 3
   },
   "file_extension": ".py",
   "mimetype": "text/x-python",
   "name": "python",
   "nbconvert_exporter": "python",
   "pygments_lexer": "ipython3",
   "version": "3.7.8-final"
  },
  "orig_nbformat": 2,
  "kernelspec": {
   "name": "python_defaultSpec_1599316273646",
   "display_name": "Python 3.7.8 64-bit"
  }
 },
 "nbformat": 4,
 "nbformat_minor": 2,
 "cells": [
  {
   "cell_type": "code",
   "execution_count": 2,
   "metadata": {
    "tags": []
   },
   "outputs": [
    {
     "output_type": "stream",
     "name": "stdout",
     "text": "Preparing Q# environment...\nAdding package microsoft.quantum.chemistry.jupyter."
    }
   ],
   "source": [
    "from qsharp.chemistry import load_broombridge, load_fermion_hamiltonian, load_input_state, encode"
   ]
  },
  {
   "cell_type": "code",
   "execution_count": 3,
   "metadata": {},
   "outputs": [],
   "source": [
    "filename = 'data/hydrogen_0.2.yaml'\n",
    "broombridge_data =  load_broombridge(filename)"
   ]
  },
  {
   "cell_type": "code",
   "execution_count": 4,
   "metadata": {},
   "outputs": [
    {
     "output_type": "execute_result",
     "data": {
      "text/plain": "{'Type': 'gaussian', 'Name': 'sto-3g'}"
     },
     "metadata": {},
     "execution_count": 4
    }
   ],
   "source": [
    "broombridge_data.problem_description[0].basis_set"
   ]
  },
  {
   "cell_type": "code",
   "execution_count": 5,
   "metadata": {},
   "outputs": [
    {
     "output_type": "execute_result",
     "data": {
      "text/plain": "{'CoordinateSystem': 'cartesian',\n 'Symmetry': 'c1',\n 'Atoms': [{'coords': ['0.0', '0.0', '0.0'], 'name': 'H'},\n  {'coords': ['0.0', '0.0', '1.624'], 'name': 'H'}],\n 'Units': 'angstrom'}"
     },
     "metadata": {},
     "execution_count": 5
    }
   ],
   "source": [
    "broombridge_data.problem_description[0].geometry"
   ]
  },
  {
   "cell_type": "code",
   "execution_count": 6,
   "metadata": {
    "tags": []
   },
   "outputs": [
    {
     "output_type": "stream",
     "name": "stdout",
     "text": "nuclear_repulsion =  0.713776188\none_electron_integrals =  [([1, 1], -1.252477495), ([2, 2], -0.475934275)]\n"
    }
   ],
   "source": [
    "# Retrieve basis set and geometry used to generate the input data\n",
    "basis_set = broombridge_data.problem_description[0].basis_set\n",
    "geometry = broombridge_data.problem_description[0].geometry\n",
    "\n",
    "# Retrieve the nuclear repulsion and the one-electron integrals (Mulliken convention)\n",
    "nuclear_repulsion = broombridge_data.problem_description[0].coulomb_repulsion['Value']\n",
    "one_electron_integrals =  broombridge_data.problem_description[0].hamiltonian['OneElectronIntegrals']['Values']\n",
    "\n",
    "print(\"nuclear_repulsion = \", nuclear_repulsion)\n",
    "print(\"one_electron_integrals = \", one_electron_integrals)"
   ]
  },
  {
   "cell_type": "code",
   "execution_count": 7,
   "metadata": {},
   "outputs": [
    {
     "output_type": "execute_result",
     "data": {
      "text/plain": "<qsharp.chemistry.ProblemDescription at 0x7f5768c7c510>"
     },
     "metadata": {},
     "execution_count": 7
    }
   ],
   "source": [
    "broombridge_data.problem_description[0]"
   ]
  },
  {
   "cell_type": "code",
   "execution_count": 8,
   "metadata": {
    "tags": []
   },
   "outputs": [
    {
     "output_type": "stream",
     "name": "stdout",
     "text": "ferm_hamiltonian :: <qsharp.chemistry.FermionHamiltonian object at 0x7f576aaefc90>\n"
    }
   ],
   "source": [
    "ferm_hamiltonian = broombridge_data.problem_description[0].load_fermion_hamiltonian()\n",
    "print(\"ferm_hamiltonian ::\", ferm_hamiltonian)"
   ]
  },
  {
   "cell_type": "code",
   "execution_count": 9,
   "metadata": {
    "tags": []
   },
   "outputs": [
    {
     "output_type": "stream",
     "name": "stdout",
     "text": "input_state :: <qsharp.chemistry.InputState object at 0x7f5768ca7210>\n"
    }
   ],
   "source": [
    "input_state = load_input_state(filename, \"UCCSD |G>\")\n",
    "print(\"input_state ::\", input_state)"
   ]
  },
  {
   "cell_type": "code",
   "execution_count": 10,
   "metadata": {
    "tags": []
   },
   "outputs": [
    {
     "output_type": "stream",
     "name": "stdout",
     "text": "jw_hamiltonian :: \n (4, ([([0], [0.17120128499999998]), ([1], [0.17120128499999998]), ([2], [-0.222796536]), ([3], [-0.222796536])], [([0, 1], [0.1686232915]), ([0, 2], [0.12054614575]), ([0, 3], [0.16586802525]), ([1, 2], [0.16586802525]), ([1, 3], [0.12054614575]), ([2, 3], [0.1743495025])], [], [([0, 1, 2, 3], [0.0, -0.0453218795, 0.0, 0.0453218795])]), (3, [((-1.97094587e-06, 0.0), [2, 0]), ((1.52745368e-07, 0.0), [3, 1]), ((-0.113070239, 0.0), [2, 3, 1, 0]), ((1.0, 0.0), [0, 1])]), -0.09883444600000002)\n"
    }
   ],
   "source": [
    "jw_hamiltonian = encode(ferm_hamiltonian, input_state)\n",
    "print(\"jw_hamiltonian :: \\n\", jw_hamiltonian)"
   ]
  },
  {
   "cell_type": "code",
   "execution_count": 11,
   "metadata": {},
   "outputs": [
    {
     "output_type": "execute_result",
     "data": {
      "text/plain": "4"
     },
     "metadata": {},
     "execution_count": 11
    }
   ],
   "source": [
    "jw_hamiltonian[0]"
   ]
  },
  {
   "cell_type": "code",
   "execution_count": 12,
   "metadata": {},
   "outputs": [
    {
     "output_type": "execute_result",
     "data": {
      "text/plain": "([([0], [0.17120128499999998]),\n  ([1], [0.17120128499999998]),\n  ([2], [-0.222796536]),\n  ([3], [-0.222796536])],\n [([0, 1], [0.1686232915]),\n  ([0, 2], [0.12054614575]),\n  ([0, 3], [0.16586802525]),\n  ([1, 2], [0.16586802525]),\n  ([1, 3], [0.12054614575]),\n  ([2, 3], [0.1743495025])],\n [],\n [([0, 1, 2, 3], [0.0, -0.0453218795, 0.0, 0.0453218795])])"
     },
     "metadata": {},
     "execution_count": 12
    }
   ],
   "source": [
    "jw_hamiltonian[1]"
   ]
  },
  {
   "cell_type": "code",
   "execution_count": 16,
   "metadata": {},
   "outputs": [
    {
     "output_type": "execute_result",
     "data": {
      "text/plain": "[([0], [0.17120128499999998]),\n ([1], [0.17120128499999998]),\n ([2], [-0.222796536]),\n ([3], [-0.222796536])]"
     },
     "metadata": {},
     "execution_count": 16
    }
   ],
   "source": [
    "jw_hamiltonian[1][0]"
   ]
  },
  {
   "cell_type": "code",
   "execution_count": 17,
   "metadata": {},
   "outputs": [
    {
     "output_type": "execute_result",
     "data": {
      "text/plain": "[([0, 1], [0.1686232915]),\n ([0, 2], [0.12054614575]),\n ([0, 3], [0.16586802525]),\n ([1, 2], [0.16586802525]),\n ([1, 3], [0.12054614575]),\n ([2, 3], [0.1743495025])]"
     },
     "metadata": {},
     "execution_count": 17
    }
   ],
   "source": [
    "jw_hamiltonian[1][1]"
   ]
  },
  {
   "cell_type": "code",
   "execution_count": 20,
   "metadata": {},
   "outputs": [
    {
     "output_type": "execute_result",
     "data": {
      "text/plain": "[]"
     },
     "metadata": {},
     "execution_count": 20
    }
   ],
   "source": [
    "jw_hamiltonian[1][2]"
   ]
  },
  {
   "cell_type": "code",
   "execution_count": 21,
   "metadata": {},
   "outputs": [
    {
     "output_type": "execute_result",
     "data": {
      "text/plain": "[([0, 1, 2, 3], [0.0, -0.0453218795, 0.0, 0.0453218795])]"
     },
     "metadata": {},
     "execution_count": 21
    }
   ],
   "source": [
    "jw_hamiltonian[1][3]"
   ]
  },
  {
   "cell_type": "code",
   "execution_count": 13,
   "metadata": {},
   "outputs": [
    {
     "output_type": "execute_result",
     "data": {
      "text/plain": "(3,\n [((-1.97094587e-06, 0.0), [2, 0]),\n  ((1.52745368e-07, 0.0), [3, 1]),\n  ((-0.113070239, 0.0), [2, 3, 1, 0]),\n  ((1.0, 0.0), [0, 1])])"
     },
     "metadata": {},
     "execution_count": 13
    }
   ],
   "source": [
    "jw_hamiltonian[2]"
   ]
  },
  {
   "cell_type": "code",
   "execution_count": 15,
   "metadata": {},
   "outputs": [
    {
     "output_type": "execute_result",
     "data": {
      "text/plain": "-0.09883444600000002"
     },
     "metadata": {},
     "execution_count": 15
    }
   ],
   "source": [
    "jw_hamiltonian[3]"
   ]
  },
  {
   "cell_type": "code",
   "execution_count": 25,
   "metadata": {},
   "outputs": [],
   "source": [
    "jw_hamiltonian_1 = (4, ([([0], [0.17120128499999998]), ([1], [0.17120128499999998]), ([2], [-0.222796536]), ([3], [-0.222796536])], [([0, 1], [0.1686232915]), ([0, 2], [0.12054614575]), ([0, 3], [0.16586802525]), ([1, 2], [0.16586802525]), ([1, 3], [0.12054614575]), ([2, 3], [0.1743495025])], [], [([0, 1, 2, 3], [0.0, -0.0453218795, 0.0, 0.0453218795])]), (3, [((0.001, 0.0), [2, 0]), ((-0.001, 0.0), [3, 1]), ((-0.001, 0.0), [2, 3, 1, 0]), ((1.0, 0.0), [0, 1])]), -0.09883444600000002)"
   ]
  },
  {
   "cell_type": "code",
   "execution_count": 29,
   "metadata": {},
   "outputs": [
    {
     "output_type": "execute_result",
     "data": {
      "text/plain": "((3,\n  [((-1.97094587e-06, 0.0), [2, 0]),\n   ((1.52745368e-07, 0.0), [3, 1]),\n   ((-0.113070239, 0.0), [2, 3, 1, 0]),\n   ((1.0, 0.0), [0, 1])]),\n (3,\n  [((0.001, 0.0), [2, 0]),\n   ((-0.001, 0.0), [3, 1]),\n   ((-0.001, 0.0), [2, 3, 1, 0]),\n   ((1.0, 0.0), [0, 1])]))"
     },
     "metadata": {},
     "execution_count": 29
    }
   ],
   "source": [
    "jw_hamiltonian[2],jw_hamiltonian_1[2]"
   ]
  },
  {
   "cell_type": "code",
   "execution_count": 31,
   "metadata": {
    "tags": []
   },
   "outputs": [
    {
     "output_type": "stream",
     "name": "stdout",
     "text": "[-1.97094587e-06, 1.52745368e-07, -0.113070239]\n"
    }
   ],
   "source": [
    "def get_var_params(jw_hamiltonian):\n",
    "    \"\"\" Retrieve the values of variational parameters from the jw_hamiltonian object \"\"\"\n",
    "    _, _, input_state, _ = jw_hamiltonian\n",
    "    _, var_params = input_state\n",
    "    params = [param for ((param, _), _) in var_params]\n",
    "    return params[:-1]\n",
    "\n",
    "var_params = get_var_params(jw_hamiltonian)\n",
    "print(var_params)"
   ]
  },
  {
   "cell_type": "code",
   "execution_count": 32,
   "metadata": {
    "tags": []
   },
   "outputs": [
    {
     "output_type": "stream",
     "name": "stdout",
     "text": "Energy evaluated at [-1.97094587e-06, 1.52745368e-07, -0.113070239] : -1.137270413930569 \n\n"
    }
   ],
   "source": [
    "import qsharp\n",
    "\n",
    "# It is possible to create a Python object to represent a\n",
    "# Q# callable from the chemistry library\n",
    "estimate_energy = qsharp.QSharpCallable(\"Microsoft.Quantum.Chemistry.JordanWigner.VQE.EstimateEnergy\", \"\")\n",
    "\n",
    "# The Q# operation can then be called through the simulate method\n",
    "# A large number of samples is selected for high accuracy\n",
    "energy = estimate_energy.simulate(jwHamiltonian=jw_hamiltonian, nSamples=1e18)\n",
    "\n",
    "print(\"Energy evaluated at {0} : {1} \\n\".format(var_params, energy))"
   ]
  },
  {
   "cell_type": "code",
   "execution_count": 33,
   "metadata": {},
   "outputs": [],
   "source": [
    "def set_var_params(var_params, jw_hamiltonian):\n",
    "    \"\"\" Set variational parameters stored in the JW data-structure to the desired values\"\"\"\n",
    "    # Unpack data structure\n",
    "    a1, a2, input_state, a3 = jw_hamiltonian\n",
    "    b1, amps = input_state\n",
    "    # Unpack and overwrite variational parameters\n",
    "    new_amps = [((var_params[i], 0.0), amps[i][1]) for i in range(len(var_params))]\n",
    "    new_amps.append(amps[-1])\n",
    "    # Re-pack the data structure\n",
    "    input_state = (b1, new_amps)\n",
    "    jw_hamiltonian = (a1, a2, input_state, a3)\n",
    "    return jw_hamiltonian"
   ]
  },
  {
   "cell_type": "code",
   "execution_count": 34,
   "metadata": {},
   "outputs": [],
   "source": [
    "def energy_eval_wrapper(var_params, jw_hamiltonian, n_samples):\n",
    "    \"\"\"\n",
    "        A wrapper whose signature is compatible with the use of scipy optimizers,\n",
    "        calling the Q# energy_evalaution from the Microsoft Chemistry library\n",
    "    \"\"\"\n",
    "\n",
    "    # NumPy arrays are currently not supported by the Python interops\n",
    "    # This ensures that neither the user nor SciPy call the energy evaluation function with a NumPy array\n",
    "    var_params = list(var_params)\n",
    "\n",
    "    # Set the varational parameters to the right values in the jw_hamiltonian object\n",
    "    jw_hamiltonian = set_var_params(var_params, jw_hamiltonian)\n",
    "\n",
    "    # Estimate the energy\n",
    "    energy = estimate_energy.simulate(jwHamiltonian=jw_hamiltonian, nSamples=1e18)\n",
    "\n",
    "    print(\"Energy evaluated at {0} : {1} \\n\".format(var_params, energy))\n",
    "    return energy"
   ]
  },
  {
   "cell_type": "code",
   "execution_count": 35,
   "metadata": {},
   "outputs": [],
   "source": [
    "from scipy.optimize import minimize\n",
    "\n",
    "def VQE(initial_var_params, jw_hamiltonian, n_samples):\n",
    "    \"\"\" Run VQE Optimization to find the optimal energy and the associated variational parameters \"\"\"\n",
    "\n",
    "    opt_result = minimize(energy_eval_wrapper,\n",
    "                          initial_var_params,\n",
    "                          args=(jw_hamiltonian, n_samples),\n",
    "                          method=\"COBYLA\",\n",
    "                          tol=0.000001,\n",
    "                          options={'disp': True, 'maxiter': 200,'rhobeg' : 0.05})\n",
    "\n",
    "    return opt_result"
   ]
  },
  {
   "cell_type": "code",
   "execution_count": 40,
   "metadata": {
    "tags": []
   },
   "outputs": [
    {
     "output_type": "stream",
     "name": "stdout",
     "text": "[0.001, -0.001, -0.001]\n"
    }
   ],
   "source": [
    "var_params = get_var_params(jw_hamiltonian_1)\n",
    "print(var_params)"
   ]
  },
  {
   "cell_type": "code",
   "execution_count": 41,
   "metadata": {
    "tags": []
   },
   "outputs": [
    {
     "output_type": "stream",
     "name": "stdout",
     "text": "Energy evaluated at [0.001, -0.001, -0.001] : -1.1170458249724176 \n\nEnergy evaluated at [0.051000000000000004, -0.001, -0.001] : -1.1150922915980956 \n\nEnergy evaluated at [0.001, 0.049, -0.001] : -1.1151731335219388 \n\nEnergy evaluated at [0.001, -0.001, 0.049] : -1.0951663452257554 \n\nEnergy evaluated at [-0.0034305445921291354, -0.005247197968412004, -0.050621886139427155] : -1.1309325805695871 \n\nEnergy evaluated at [-0.010445844150377578, -0.011972187506837123, -0.09966839557502422] : -1.1367311458063174 \n\nEnergy evaluated at [-0.04537630514172043, -0.04664899400461336, -0.10846509871017998] : -1.1331125325842444 \n\nEnergy evaluated at [0.0071785578618277605, -0.02970273729578203, -0.09975816134755525] : -1.1363369905883096 \n\nEnergy evaluated at [0.006671969673638301, 0.011794793351396802, -0.14019136524372783] : -1.1359148391079565 \n\nEnergy evaluated at [-0.0018869372383696383, -8.86970777201606e-05, -0.11992988040937602] : -1.1371913079726852 \n\nEnergy evaluated at [0.010521503679953007, 0.019543609286641034, -0.11067768387058809] : -1.1367978573994262 \n\nEnergy evaluated at [-0.01540051667193536, 0.003231870338458632, -0.1406990162346173] : -1.1358549229927193 \n\nEnergy evaluated at [0.00814936697548681, -0.007271262699260078, -0.12191314761759589] : -1.1370698004776303 \n\nEnergy evaluated at [0.0012538674460769038, 0.004604622979637077, -0.11725208415622924] : -1.1372221232745954 \n\nEnergy evaluated at [0.0016527226125495908, 0.005934934573679364, -0.12005151456596168] : -1.1371582765411978 \n\nEnergy evaluated at [-0.0009421326762855268, 0.004521731614618193, -0.11140116863092984] : -1.1372507429848153 \n\nEnergy evaluated at [0.003660958272032345, 0.0010470549292639548, -0.10899270944427757] : -1.1372307789553995 \n\nEnergy evaluated at [-0.0024445217043988525, 0.0019250024709804602, -0.11227606860394798] : -1.1372635192629086 \n\nEnergy evaluated at [-0.0073273241525898605, 0.0009864203354269167, -0.10848927526039731] : -1.1371963381838541 \n\nEnergy evaluated at [-0.0019375441602314484, 0.0016521708152833492, -0.11534757664680895] : -1.1372580168246018 \n\nEnergy evaluated at [-0.0001781615565586525, -0.00010067082059120845, -0.11155088973215499] : -1.1372666747436617 \n\nEnergy evaluated at [-0.0010046397722615506, -0.0013184029399236597, -0.111026038806163] : -1.1372610527526983 \n\nEnergy evaluated at [-0.00014875378573387586, 0.00019141757268793878, -0.11082689310507257] : -1.1372622894136781 \n\nEnergy evaluated at [0.0005438197970839577, -0.00014168236788072717, -0.11293597717631919] : -1.1372701676774826 \n\nEnergy evaluated at [-0.0005353063153261126, 0.000648613232133309, -0.11374364415479063] : -1.1372692352824547 \n\nEnergy evaluated at [0.00010395954584341548, -0.0007859277071428456, -0.1129786675114976] : -1.1372699381638287 \n\nEnergy evaluated at [0.0014818623271227508, -0.0005559595491925922, -0.11411489909013821] : -1.1372669526349402 \n\nEnergy evaluated at [0.00039974243977531775, 2.764509054743256e-05, -0.11218703025601494] : -1.1372690417154612 \n\nEnergy evaluated at [0.000267293288348495, 7.478539148001294e-05, -0.11310704058488139] : -1.1372703432662532 \n\nEnergy evaluated at [0.00034378541876699297, 3.41602847025532e-05, -0.1132820992245985] : -1.1372702386250713 \n\nEnergy evaluated at [7.820895961602295e-05, 0.0003783419664994647, -0.1129499151158598] : -1.1372702648153354 \n\nEnergy evaluated at [0.00013015368033192422, -4.616483149745073e-05, -0.11303840572397955] : -1.1372704004403675 \n\nEnergy evaluated at [-0.00010559520523097373, -0.0001729413501945265, -0.1133229018889588] : -1.1372702667405292 \n\nEnergy evaluated at [0.00018439883208070466, -0.00016404361111149328, -0.11289242959755914] : -1.1372703306775027 \n\nEnergy evaluated at [1.5154547049448558e-05, 8.226798864666915e-05, -0.11294660603601517] : -1.137270386345723 \n\nEnergy evaluated at [6.35127972779356e-05, -7.44812065700578e-05, -0.11310393372389252] : -1.1372704053766483 \n\nEnergy evaluated at [5.049357363148314e-05, -0.00011680683444614775, -0.11308336124636661] : -1.137270403087986 \n\nEnergy evaluated at [8.089397994036868e-05, -8.599990418408764e-05, -0.11311663256408702] : -1.1372704007608792 \n\nEnergy evaluated at [2.509728064601872e-05, -4.5557876569878516e-05, -0.1130954558199877] : -1.137270410435287 \n\nEnergy evaluated at [3.4339720649310474e-05, -2.0861926273473195e-05, -0.11305435991833365] : -1.1372704129026694 \n\nEnergy evaluated at [4.800912457134293e-06, -4.6085608971287246e-05, -0.11302477258265162] : -1.137270410469072 \n\nEnergy evaluated at [2.0984571010244094e-05, 2.5987423147066906e-05, -0.11305767114590147] : -1.1372704126906261 \n\nEnergy evaluated at [5.708830593660919e-05, -1.5057240255102378e-05, -0.11304766261026186] : -1.1372704112293555 \n\nEnergy evaluated at [3.168821361147166e-05, -2.285534457856974e-05, -0.11306610757366685] : -1.1372704143873773 \n\nEnergy evaluated at [2.8281315962793366e-05, -2.5092993381204057e-05, -0.11307761398875522] : -1.1372704126251003 \n\nEnergy evaluated at [3.298966562467407e-05, -2.8775964495691496e-05, -0.11306539666900452] : -1.137270413254552 \n\nEnergy evaluated at [2.763005867925482e-05, -1.41311416518247e-05, -0.11307361964886466] : -1.1372704133718785 \n\nEnergy evaluated at [2.5937552573421765e-05, -2.4214168389374187e-05, -0.11306457904546585] : -1.137270413437589 \n\nEnergy evaluated at [3.9283977889494196e-05, -3.005871747082239e-05, -0.1130723866974868] : -1.137270412625277 \n\nEnergy evaluated at [2.6538632200339722e-05, -2.6106531612722753e-05, -0.11306570199119226] : -1.1372704140670487 \n\nEnergy evaluated at [3.349151279498612e-05, -2.4746457480986355e-05, -0.11306768397139307] : -1.1372704128319042 \n\nEnergy evaluated at [3.218114165894438e-05, -2.3473277711572845e-05, -0.11306480239665982] : -1.1372704123090358 \n\nEnergy evaluated at [3.0387522600321476e-05, -2.0822686699000497e-05, -0.11306797565572722] : -1.137270413580317 \n\nEnergy evaluated at [3.1637531439324814e-05, -2.2387215393605432e-05, -0.11306465616303572] : -1.1372704131023252 \n\nEnergy evaluated at [3.0464865051816913e-05, -2.3767255611593515e-05, -0.11306611953217757] : -1.1372704133509037 \n\nEnergy evaluated at [3.151935866275447e-05, -2.2109522411076564e-05, -0.11306675196275798] : -1.1372704133650307 \n\nEnergy evaluated at [3.248884071762567e-05, -2.342805542214444e-05, -0.11306628363765107] : -1.1372704129922768 \n\n     fun: -1.1372704129922768\n   maxcv: 0.0\n message: 'Optimization terminated successfully.'\n    nfev: 57\n  status: 1\n success: True\n       x: array([ 3.24888407e-05, -2.34280554e-05, -1.13066284e-01])\n"
    }
   ],
   "source": [
    "# Run VQE and print the results of the optimization process\n",
    "# A large number of samples is selected for higher accuracy\n",
    "opt_result = VQE(var_params, jw_hamiltonian_1, n_samples=1e18)\n",
    "print(opt_result)"
   ]
  },
  {
   "cell_type": "code",
   "execution_count": 42,
   "metadata": {
    "tags": []
   },
   "outputs": [
    {
     "output_type": "stream",
     "name": "stdout",
     "text": "Difference with exact FCI value ::  9.100163289588181e-09\n"
    }
   ],
   "source": [
    "# Print difference with exact FCI value known for this bond length\n",
    "fci_value = -1.1372704220924401\n",
    "print(\"Difference with exact FCI value :: \", abs(opt_result.fun - fci_value))"
   ]
  },
  {
   "cell_type": "code",
   "execution_count": null,
   "metadata": {},
   "outputs": [],
   "source": []
  }
 ]
}